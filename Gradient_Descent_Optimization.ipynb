{
  "nbformat": 4,
  "nbformat_minor": 0,
  "metadata": {
    "colab": {
      "provenance": [],
      "collapsed_sections": [],
      "include_colab_link": true
    },
    "kernelspec": {
      "name": "python3",
      "display_name": "Python 3"
    },
    "language_info": {
      "name": "python"
    }
  },
  "cells": [
    {
      "cell_type": "markdown",
      "metadata": {
        "id": "view-in-github",
        "colab_type": "text"
      },
      "source": [
        "<a href=\"https://colab.research.google.com/github/Pi-vardhan/AI_n_ML_Assignments/blob/main/Gradient_Descent_Optimization.ipynb\" target=\"_parent\"><img src=\"https://colab.research.google.com/assets/colab-badge.svg\" alt=\"Open In Colab\"/></a>"
      ]
    },
    {
      "cell_type": "markdown",
      "source": [
        "Importing Libraries"
      ],
      "metadata": {
        "id": "BIGsPJtXJHfH"
      }
    },
    {
      "cell_type": "code",
      "execution_count": 156,
      "metadata": {
        "id": "yyHj491VJAed"
      },
      "outputs": [],
      "source": [
        "import math"
      ]
    },
    {
      "cell_type": "markdown",
      "source": [
        "Input Variables"
      ],
      "metadata": {
        "id": "9Aw2uJAsrqri"
      }
    },
    {
      "cell_type": "code",
      "source": [
        "x = 2 \n",
        "y = 3 \n",
        "n = 0.01 \n",
        "eps = 0.000001 \n",
        "max_iters = 100\n",
        "iters= 0 \n",
        "delta_x=delta_y=1"
      ],
      "metadata": {
        "id": "i3AaJ0tvr2_t"
      },
      "execution_count": 157,
      "outputs": []
    },
    {
      "cell_type": "markdown",
      "source": [
        "Gradient of (x,y)"
      ],
      "metadata": {
        "id": "lHRwg64sq8xx"
      }
    },
    {
      "cell_type": "code",
      "source": [
        "def deriv(x,y):\n",
        " dx = 6 * x\n",
        " dy = -5 * math.exp(-y)\n",
        " return dx,dy"
      ],
      "metadata": {
        "id": "wdBnXls8quwm"
      },
      "execution_count": 158,
      "outputs": []
    },
    {
      "cell_type": "markdown",
      "source": [
        "Finding Local Minimum"
      ],
      "metadata": {
        "id": "K6yiQ16mJb3z"
      }
    },
    {
      "cell_type": "code",
      "source": [
        "while max(abs(delta_x),abs(delta_y)) > eps and iters < max_iters:\n",
        " prev_x = x \n",
        " prev_y = y \n",
        " delta_x,delta_y=deriv(prev_x,prev_y)\n",
        " delta_x=-n * delta_x\n",
        " delta_y=-n * delta_y\n",
        " x = x+delta_x \n",
        " y = y+delta_y \n",
        " iters= iters+1\n",
        " if iters<=2 :\n",
        "   print('At iteration',iters,': x =',x,'y =',y,)   \n",
        "print(\"\\nThe local minimum occurs at\", x,y)"
      ],
      "metadata": {
        "id": "bt-dEofMJYqo",
        "outputId": "628a26df-2bd4-4804-926a-9d8d5b1a0c27",
        "colab": {
          "base_uri": "https://localhost:8080/"
        }
      },
      "execution_count": 159,
      "outputs": [
        {
          "output_type": "stream",
          "name": "stdout",
          "text": [
            "At iteration 1 : x = 1.88 y = 3.0024893534183934\n",
            "At iteration 2 : x = 1.7671999999999999 y = 3.0049725176630613\n",
            "\n",
            "The local minimum occurs at 0.004109749541047198 3.222513357120518\n"
          ]
        }
      ]
    }
  ]
}