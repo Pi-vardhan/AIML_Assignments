{
  "nbformat": 4,
  "nbformat_minor": 0,
  "metadata": {
    "colab": {
      "provenance": [],
      "authorship_tag": "ABX9TyPFNy6Uy7U7S2mEHyix7AYM",
      "include_colab_link": true
    },
    "kernelspec": {
      "name": "python3",
      "display_name": "Python 3"
    },
    "language_info": {
      "name": "python"
    }
  },
  "cells": [
    {
      "cell_type": "markdown",
      "metadata": {
        "id": "view-in-github",
        "colab_type": "text"
      },
      "source": [
        "<a href=\"https://colab.research.google.com/github/Pi-vardhan/AI_n_ML_Assignments/blob/main/Gradient%20Descent%20Optimization.ipynb\" target=\"_parent\"><img src=\"https://colab.research.google.com/assets/colab-badge.svg\" alt=\"Open In Colab\"/></a>"
      ]
    },
    {
      "cell_type": "markdown",
      "source": [
        "Importing Libraries"
      ],
      "metadata": {
        "id": "BIGsPJtXJHfH"
      }
    },
    {
      "cell_type": "code",
      "execution_count": 1,
      "metadata": {
        "id": "yyHj491VJAed"
      },
      "outputs": [],
      "source": [
        "import math\n",
        "\n",
        "\n"
      ]
    },
    {
      "cell_type": "markdown",
      "source": [
        "Defining Function"
      ],
      "metadata": {
        "id": "TuWdV1N9JWkm"
      }
    },
    {
      "cell_type": "code",
      "source": [
        "def f(x,y):\n",
        "    fxy=((3*x*x)+(5*math.exp(-y))+10)\n",
        "    return fxy\n"
      ],
      "metadata": {
        "id": "bt-dEofMJYqo"
      },
      "execution_count": 2,
      "outputs": []
    },
    {
      "cell_type": "markdown",
      "source": [
        "Finding Local Minimum"
      ],
      "metadata": {
        "id": "K6yiQ16mJb3z"
      }
    },
    {
      "cell_type": "code",
      "source": [
        "min=math.inf\n",
        "for x in range(-100,101):\n",
        "    for y in range(-100,101):\n",
        "        if f(x,y)<min:\n",
        "            min=f(x,y)\n",
        "            a=x\n",
        "            b=y\n",
        "print('Minimum = ',min,' at (',a,',',b,')')"
      ],
      "metadata": {
        "colab": {
          "base_uri": "https://localhost:8080/"
        },
        "id": "Vx2wqzhBJfwG",
        "outputId": "dd73e96f-6d4d-4116-e302-eae44bda9f8c"
      },
      "execution_count": 3,
      "outputs": [
        {
          "output_type": "stream",
          "name": "stdout",
          "text": [
            "Minimum =  10.0  at ( 0 , 37 )\n"
          ]
        }
      ]
    }
  ]
}